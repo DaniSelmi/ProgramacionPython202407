{
 "cells": [
  {
   "cell_type": "markdown",
   "metadata": {},
   "source": [
    "RESUMEN DE LA CLASE 2\n",
    "\n",
    "ESTRUCTURAS DE CONTROL ITERATIVAS\n",
    "\n",
    "Nos permite ejercer un mismo código, de manera repetida, mientras se cumpla una condición."
   ]
  },
  {
   "cell_type": "markdown",
   "metadata": {},
   "source": [
    "BUCLE WHILE\n",
    "\n",
    "Se basa en repetir un bloque a partir de evaluar una condición lógica, siempre que ésta sea True. Queda en las manos del programador decidir el momento en que la condición cambie a False para hacer que el While finalice."
   ]
  },
  {
   "cell_type": "code",
   "execution_count": null,
   "metadata": {},
   "outputs": [],
   "source": [
    "while <expre>:      # se repite mientras cumpla la condición\n",
    "    <statemente(s)> \n",
    "pass  # fin bucle while y condicional, pero al final no hacer nada."
   ]
  },
  {
   "cell_type": "code",
   "execution_count": null,
   "metadata": {},
   "outputs": [],
   "source": [
    "# Si no añades un contador y este incremento, el programa correra infinitamente.\n",
    "# Para un bucle infinito en .py debes usar el comando \"control + c\" dentro de la terminal"
   ]
  },
  {
   "cell_type": "markdown",
   "metadata": {},
   "source": [
    "Ejemplo\n",
    "\n",
    "Mientras que año sea menor o igual a 2012, imprimir la frase “Informes del Año año”\n",
    "\n",
    "para el año 2010 realizamos una salida forzada del bucle\n",
    "\n",
    "si el año es 2005 o 2006, no imprimas ese informe"
   ]
  },
  {
   "cell_type": "code",
   "execution_count": 1,
   "metadata": {},
   "outputs": [
    {
     "name": "stdout",
     "output_type": "stream",
     "text": [
      "Informes del Año 2001\n",
      "Informes del Año 2002\n",
      "Informes del Año 2003\n",
      "Informes del Año 2004\n",
      "Informes del Año 2007\n",
      "Informes del Año 2008\n",
      "Informes del Año 2009\n",
      "Salida forzada del bucle para año 2010\n",
      "FInalizando el programa\n"
     ]
    }
   ],
   "source": [
    "anio = 2001\n",
    "while anio <= 2012:\n",
    "    if anio==2010:\n",
    "        print('Salida forzada del bucle para año 2010')\n",
    "        break\n",
    "\n",
    "    if anio in [2005, 2006]:\n",
    "        anio += 1 # incrementamos anio en 1, aunmentamos el contador\n",
    "        continue\n",
    "    \n",
    "    print(\"Informes del Año {}\".format(anio))\n",
    "\n",
    "    anio += 1 # aumentamos contador\n",
    "\n",
    "print('FInalizando el programa')"
   ]
  },
  {
   "cell_type": "markdown",
   "metadata": {},
   "source": [
    "BREAK\n",
    "\n",
    "Finaliza inmediatamente un bucle por completo"
   ]
  },
  {
   "cell_type": "code",
   "execution_count": 2,
   "metadata": {},
   "outputs": [
    {
     "name": "stdout",
     "output_type": "stream",
     "text": [
      "c vale  0\n",
      "c vale  1\n",
      "c vale  2\n",
      "c vale  3\n",
      "c vale  4\n",
      "Rompemos el bucle cuando c vale  4\n"
     ]
    }
   ],
   "source": [
    "c = 0\n",
    "while c <= 5:\n",
    "    print(\"c vale \",c)\n",
    "    if c == 4:\n",
    "        print(\"Rompemos el bucle cuando c vale \", c)\n",
    "        break\n",
    "    c+=1\n",
    "    pass # fin bucle while\n",
    "    "
   ]
  },
  {
   "cell_type": "markdown",
   "metadata": {},
   "source": [
    "CONTINUE\n",
    "\n",
    "Desde donde esta, la ejecución salta a la parte superior del bucle y la expresión de control se vuelve a evaluar para determinar si el bucle se ejecutará de nuevo o terminará."
   ]
  },
  {
   "cell_type": "code",
   "execution_count": 3,
   "metadata": {},
   "outputs": [
    {
     "name": "stdout",
     "output_type": "stream",
     "text": [
      "c vale 1\n",
      "c vale 2\n",
      "Continuamos con la siguiente iteración 3\n",
      "Continuamos con la siguiente iteración 4\n",
      "c vale 5\n",
      "c vale 6\n"
     ]
    }
   ],
   "source": [
    "c = 0\n",
    "while c <= 5:\n",
    "    c+=1\n",
    "    if c==3 or c==4:\n",
    "        print(\"Continuamos con la siguiente iteración\", c)\n",
    "        continue\n",
    "    print(\"c vale\",c)"
   ]
  },
  {
   "cell_type": "markdown",
   "metadata": {},
   "source": [
    "BUCLE FOR\n",
    "\n",
    "recorre una secuencia de elementos (listas, tuplas, dicx, string, etc):"
   ]
  },
  {
   "cell_type": "code",
   "execution_count": null,
   "metadata": {},
   "outputs": [],
   "source": [
    "for <var> in <iterable>:\n",
    "    <statement(s)>"
   ]
  },
  {
   "cell_type": "markdown",
   "metadata": {},
   "source": [
    "ITERANDO SOBRE LISTAS"
   ]
  },
  {
   "cell_type": "code",
   "execution_count": 4,
   "metadata": {},
   "outputs": [
    {
     "name": "stdout",
     "output_type": "stream",
     "text": [
      "Juan\n",
      "Antonio\n",
      "Pedro\n",
      "Herminio\n"
     ]
    }
   ],
   "source": [
    "lista_nombres = ['Juan', 'Antonio', 'Pedro', 'Herminio']\n",
    "\n",
    "for nombre in lista_nombres:\n",
    "    print(nombre)  #por cada nombre que esta en la lista, imprime el nombre"
   ]
  },
  {
   "cell_type": "code",
   "execution_count": 5,
   "metadata": {},
   "outputs": [
    {
     "data": {
      "text/plain": [
       "[(0, 'Juan'), (1, 'Antonio'), (2, 'Pedro'), (3, 'Herminio')]"
      ]
     },
     "execution_count": 5,
     "metadata": {},
     "output_type": "execute_result"
    }
   ],
   "source": [
    "#Enumera los elementos de una lista, generando un listado de duplas\n",
    "#(indice, valor)\n",
    "\n",
    "[*enumerate(lista_nombres)]  "
   ]
  },
  {
   "cell_type": "code",
   "execution_count": 6,
   "metadata": {},
   "outputs": [
    {
     "name": "stdout",
     "output_type": "stream",
     "text": [
      "0 Juan\n",
      "1 Antonio\n",
      "2 Pedro\n",
      "3 Herminio\n"
     ]
    }
   ],
   "source": [
    "# enumerate -> brinda el indice y el valor del iterable\n",
    "for i, nombre in enumerate(lista_nombres):\n",
    "    print(i, nombre)"
   ]
  },
  {
   "cell_type": "code",
   "execution_count": 7,
   "metadata": {},
   "outputs": [
    {
     "name": "stdout",
     "output_type": "stream",
     "text": [
      "['Maria', 'Antonio', 'Pedro', 'Herminio', 'Maria']\n"
     ]
    }
   ],
   "source": [
    "# Modificando valores sobre listas\n",
    "mi_lista = ['Juan', 'Antonio', 'Pedro', 'Herminio','Juan']\n",
    "\n",
    "for indice,nombre in enumerate(mi_lista):\n",
    "    # print(indice, nombre)\n",
    "    if nombre == 'Juan':\n",
    "        mi_lista[indice] = 'Maria' #damos la posición y el valor que debemos cambiar\n",
    "\n",
    "print(mi_lista) # el valor cambia\n"
   ]
  },
  {
   "cell_type": "markdown",
   "metadata": {},
   "source": [
    "ITERANDO SOBRE DICCIONARIOS"
   ]
  },
  {
   "cell_type": "code",
   "execution_count": 9,
   "metadata": {},
   "outputs": [
    {
     "name": "stdout",
     "output_type": "stream",
     "text": [
      "k = foo , v = 1\n",
      "k = bar , v = 2\n",
      "k = baz , v = 3\n"
     ]
    }
   ],
   "source": [
    "d = {'foo': 1, 'bar': 2, 'baz': 3}\n",
    "\n",
    "for k,v in d.items():\n",
    "    print('k =', k, ', v =', v)\n"
   ]
  },
  {
   "cell_type": "markdown",
   "metadata": {},
   "source": [
    "ITERANDO SOBRE STRINGS"
   ]
  },
  {
   "cell_type": "code",
   "execution_count": 11,
   "metadata": {},
   "outputs": [
    {
     "name": "stdout",
     "output_type": "stream",
     "text": [
      "0 H\n",
      "1 o\n",
      "2 l\n",
      "3 a\n",
      "4  \n",
      "5 M\n",
      "6 u\n",
      "7 n\n",
      "8 d\n",
      "9 o\n"
     ]
    }
   ],
   "source": [
    "texto = 'Hola Mundo'\n",
    "\n",
    "for i, letra in enumerate(texto): #nos daria posicion de cada letra (posicion, letra)\n",
    "    print(i, letra)\n"
   ]
  },
  {
   "cell_type": "code",
   "execution_count": 1,
   "metadata": {},
   "outputs": [
    {
     "ename": "NameError",
     "evalue": "name 'texto' is not defined",
     "output_type": "error",
     "traceback": [
      "\u001b[0;31m---------------------------------------------------------------------------\u001b[0m",
      "\u001b[0;31mNameError\u001b[0m                                 Traceback (most recent call last)",
      "Cell \u001b[0;32mIn[1], line 1\u001b[0m\n\u001b[0;32m----> 1\u001b[0m \u001b[43mtexto\u001b[49m[\u001b[38;5;241m1\u001b[39m] \u001b[38;5;241m=\u001b[39m \u001b[38;5;124m\"\u001b[39m\u001b[38;5;124mx\u001b[39m\u001b[38;5;124m\"\u001b[39m \u001b[38;5;66;03m#cambiar un caracter por posicion, NO ME PERTITE\u001b[39;00m\n\u001b[1;32m      3\u001b[0m \u001b[38;5;66;03m# HAY UNA FUNCION REPLACE\u001b[39;00m\n",
      "\u001b[0;31mNameError\u001b[0m: name 'texto' is not defined"
     ]
    }
   ],
   "source": [
    "texto[1] = \"x\" #No se puede reemplazar una letra de esta forma\n",
    "\n",
    "# HAY UNA FUNCION REPLACE"
   ]
  },
  {
   "cell_type": "code",
   "execution_count": 2,
   "metadata": {},
   "outputs": [
    {
     "name": "stdout",
     "output_type": "stream",
     "text": [
      "H\n",
      "l\n",
      "a\n",
      " \n",
      "M\n",
      "u\n",
      "n\n",
      "d\n"
     ]
    },
    {
     "data": {
      "text/plain": [
       "'Hxla Mundx'"
      ]
     },
     "execution_count": 2,
     "metadata": {},
     "output_type": "execute_result"
    }
   ],
   "source": [
    "# Sustituir las 'o' por las 'x' #OTRA FORMA: por cadena\n",
    "texto = 'Hola Mundo'\n",
    "\n",
    "texto_s = ''\n",
    "for letra in texto:\n",
    "    if letra == 'o':\n",
    "        texto_s += 'x' # + dentro de los texto es CONCATENACION\n",
    "        continue\n",
    "    texto_s += letra\n",
    "    print(letra)\n",
    "texto_s"
   ]
  },
  {
   "cell_type": "code",
   "execution_count": 17,
   "metadata": {},
   "outputs": [
    {
     "name": "stdout",
     "output_type": "stream",
     "text": [
      "H\n",
      "Ho\n",
      "Hol\n",
      "Hola\n",
      "Hola \n",
      "Hola M\n",
      "Hola Mu\n",
      "Hola Mun\n",
      "Hola Mund\n",
      "Hola Mundo\n"
     ]
    },
    {
     "data": {
      "text/plain": [
       "'Hola Mundo'"
      ]
     },
     "execution_count": 17,
     "metadata": {},
     "output_type": "execute_result"
    }
   ],
   "source": [
    "texto_s = ''\n",
    "for l in texto:\n",
    "    texto_s += l\n",
    "    print(texto_s)\n",
    "texto_s"
   ]
  },
  {
   "cell_type": "markdown",
   "metadata": {},
   "source": [
    "FUNCION RANGE\n",
    "\n",
    "Sirve para generar una lista de números que podemos recorrer fácilmente, pero no ocupa memoria porque se interpreta sobre la marcha"
   ]
  },
  {
   "cell_type": "code",
   "execution_count": 21,
   "metadata": {},
   "outputs": [
    {
     "name": "stdout",
     "output_type": "stream",
     "text": [
      "range(2, 20)\n"
     ]
    }
   ],
   "source": [
    "# range( inial=0, final, salto=1)\n",
    "\n",
    "range(2,20) # representación del lista del 2 al 20\n",
    "\n",
    "range(10) # listado del 0 al 9"
   ]
  },
  {
   "cell_type": "code",
   "execution_count": null,
   "metadata": {},
   "outputs": [],
   "source": [
    "for _ in range(100): #'_' se puede usar como i, normalemente _ para que no ocupa valor \n",
    "    print(saludo)"
   ]
  },
  {
   "cell_type": "code",
   "execution_count": 19,
   "metadata": {},
   "outputs": [
    {
     "data": {
      "text/plain": [
       "[0, 1, 2, 3, 4, 5, 6, 7, 8, 9, 10, 11, 12, 13, 14, 15, 16, 17, 18, 19]"
      ]
     },
     "execution_count": 19,
     "metadata": {},
     "output_type": "execute_result"
    }
   ],
   "source": [
    "# range -> no es una lista\n",
    "\n",
    "# convertir range a lista\n",
    "\n",
    "[*range(20)]"
   ]
  },
  {
   "cell_type": "code",
   "execution_count": 20,
   "metadata": {},
   "outputs": [
    {
     "name": "stdout",
     "output_type": "stream",
     "text": [
      "Informes del Año 2001\n",
      "Informes del Año 2002\n",
      "Informes del Año 2003\n",
      "Informes del Año 2004\n",
      "Informes del Año 2005\n",
      "Informes del Año 2006\n",
      "Informes del Año 2007\n",
      "Informes del Año 2008\n",
      "Informes del Año 2009\n",
      "Informes del Año 2010\n",
      "Informes del Año 2011\n",
      "Informes del Año 2012\n"
     ]
    }
   ],
   "source": [
    "# Generando un rango de valores del 2001 al 2012\n",
    "for anio in range(2001, 2013):\n",
    "    print(f\"Informes del Año {anio}\")"
   ]
  },
  {
   "cell_type": "code",
   "execution_count": 23,
   "metadata": {},
   "outputs": [
    {
     "name": "stdout",
     "output_type": "stream",
     "text": [
      "#1\n",
      "#2\n",
      "#3\n",
      "#4\n",
      "#5\n",
      "#6\n",
      "#7\n",
      "#8\n",
      "#9\n",
      "#10\n"
     ]
    }
   ],
   "source": [
    "# Por defecto el inicio de la funcion es 0\n",
    "for i in range(10):\n",
    "    print(f'#{i+1}')"
   ]
  },
  {
   "cell_type": "code",
   "execution_count": 26,
   "metadata": {},
   "outputs": [
    {
     "data": {
      "text/plain": [
       "[2, 4, 6, 8, 10, 12, 14, 16, 18]"
      ]
     },
     "execution_count": 26,
     "metadata": {},
     "output_type": "execute_result"
    }
   ],
   "source": [
    "#Indica que el rango es de [2,20], pero con un salto de 2 en 2\n",
    "[*range(2,20,2)]  "
   ]
  },
  {
   "cell_type": "code",
   "execution_count": 27,
   "metadata": {},
   "outputs": [
    {
     "data": {
      "text/plain": [
       "[30, 28, 26, 24, 22, 20, 18, 16, 14, 12, 10, 8, 6, 4]"
      ]
     },
     "execution_count": 27,
     "metadata": {},
     "output_type": "execute_result"
    }
   ],
   "source": [
    "#forma inversa\n",
    "[*range(30,2,-2)]"
   ]
  },
  {
   "cell_type": "markdown",
   "metadata": {},
   "source": [
    "FUNCIONES PYTHON\n",
    "\n",
    "Son fragmentos de código que solo se ejecuta cuando se llama. Estos son reutilizables:\n",
    "\n",
    "El mismo bloque de código se puede ejecutar muchas veces lo que ahorra tiempo y esfuerzo.\n",
    "\n",
    "Las funciones pueden tomar parámetros que se utilizan dentro de la función"
   ]
  },
  {
   "cell_type": "code",
   "execution_count": null,
   "metadata": {},
   "outputs": [],
   "source": [
    "def mi_funcion():\n",
    "    #aqui mi codigo\n",
    "    return NotImplementedError"
   ]
  },
  {
   "cell_type": "code",
   "execution_count": 29,
   "metadata": {},
   "outputs": [
    {
     "name": "stdout",
     "output_type": "stream",
     "text": [
      "Hola Mundo\n"
     ]
    }
   ],
   "source": [
    "# Defino mi función\n",
    "def hola():\n",
    "    print(\"Hola Mundo\")\n",
    "\n",
    "# Llamo mi función\n",
    "hola()"
   ]
  },
  {
   "cell_type": "code",
   "execution_count": 32,
   "metadata": {},
   "outputs": [
    {
     "name": "stdout",
     "output_type": "stream",
     "text": [
      "Hola Mundo\n"
     ]
    }
   ],
   "source": [
    "# Cuando una función retorna, estos pueden ser asignados a una variable \n",
    "def funcion():\n",
    "    return \"Hola Mundo\"\n",
    "funcion()\n",
    "\n",
    "# Almaceno el valor devuelto en una variable\n",
    "frase = funcion()\n",
    "print(frase)"
   ]
  },
  {
   "cell_type": "code",
   "execution_count": null,
   "metadata": {},
   "outputs": [],
   "source": [
    "#Creamos una función que idenfica si un numero es divisor\n",
    "def es_divisor(numero, divisor):\n",
    "    #retona True si el modulo es 0 y False caso contrario\n",
    "    return numero % divisor == 0\n",
    "\n"
   ]
  },
  {
   "cell_type": "markdown",
   "metadata": {},
   "source": [
    "FUNCIÓN CON PARÁMETROS\n",
    "\n",
    "Un parámetro es un valor que la función espera recibir cuando sea llamada (invocada), a fin de ejecutar acciones en base al mismo. \n",
    "\n",
    "Los parámetros que una función espera, serán utilizados por ésta, dentro de su algoritmo, a modo de variables de ámbito local. Es decir, que los parámetros serán variables locales, a las cuáles solo la función podrá acceder:"
   ]
  },
  {
   "cell_type": "code",
   "execution_count": null,
   "metadata": {},
   "outputs": [],
   "source": [
    "def mi_funcion():\n",
    "    # aquí mi codigo\n",
    "    return NoImplementError"
   ]
  },
  {
   "cell_type": "code",
   "execution_count": 33,
   "metadata": {},
   "outputs": [],
   "source": [
    "def mi_funcion(nombre, apellido):\n",
    "    # algoritmo \n",
    "    pass"
   ]
  },
  {
   "cell_type": "code",
   "execution_count": 38,
   "metadata": {},
   "outputs": [],
   "source": [
    "# Crea la Función con parámetros\n",
    "def mi_funcion(nombre, apellido,dni):\n",
    "    nombre_completo = f'{apellido}-{nombre}-{dni}'\n",
    "    print(nombre_completo)\n"
   ]
  },
  {
   "cell_type": "code",
   "execution_count": 41,
   "metadata": {},
   "outputs": [
    {
     "name": "stdout",
     "output_type": "stream",
     "text": [
      "delgado-gonzalo-71205119\n"
     ]
    }
   ],
   "source": [
    "# Llamamos la función e indicamos las variables\n",
    "# se debe poner si o si las variables\n",
    "\n",
    "mi_funcion('gonzalo','delgado','71205119')"
   ]
  },
  {
   "cell_type": "code",
   "execution_count": 46,
   "metadata": {},
   "outputs": [
    {
     "name": "stdout",
     "output_type": "stream",
     "text": [
      "3\n",
      "5\n"
     ]
    }
   ],
   "source": [
    "#Creamos la función\n",
    "def suma(numero1, numero2):\n",
    "    return numero1 + numero2\n",
    "\n",
    "#se pone la funcion en una variable\n",
    "a=suma(1,2)\n",
    "b=suma(2,3)\n",
    "\n",
    "print(a)\n",
    "print(b)\n"
   ]
  },
  {
   "cell_type": "markdown",
   "metadata": {},
   "source": [
    "Cuando pasamos parámetros a nuestra función, esta entiende cada valor por la posición en que se ha descrito en la función"
   ]
  },
  {
   "cell_type": "code",
   "execution_count": 47,
   "metadata": {},
   "outputs": [
    {
     "data": {
      "text/plain": [
       "-20"
      ]
     },
     "execution_count": 47,
     "metadata": {},
     "output_type": "execute_result"
    }
   ],
   "source": [
    "def resta(a,b):\n",
    "    return a - b\n",
    "\n",
    "# posicion 0 => parametro a\n",
    "# posicion 1 => parametro b\n",
    "\n",
    "resta(10,30)"
   ]
  },
  {
   "cell_type": "code",
   "execution_count": 51,
   "metadata": {},
   "outputs": [
    {
     "name": "stdout",
     "output_type": "stream",
     "text": [
      "90\n"
     ]
    },
    {
     "data": {
      "text/plain": [
       "-90"
      ]
     },
     "execution_count": 51,
     "metadata": {},
     "output_type": "execute_result"
    }
   ],
   "source": [
    "print(resta(100,10))\n",
    "\n",
    "resta(b=100, a=10) #indicamos el numero poniendo el nombre de la variable\n",
    "\n",
    "#siempre poner todas las variables"
   ]
  },
  {
   "cell_type": "markdown",
   "metadata": {},
   "source": [
    "VALORES POR DEFECTO\n",
    "\n",
    "Es posible colocar valores por defecto en nuestras funciones, asi si no se pasa un parámetro, nuestra función seguira funcionando"
   ]
  },
  {
   "cell_type": "code",
   "execution_count": 57,
   "metadata": {},
   "outputs": [
    {
     "name": "stdout",
     "output_type": "stream",
     "text": [
      "92\n",
      "180.0 => 30.0\n"
     ]
    }
   ],
   "source": [
    "def bar(x=2):\n",
    "    return x + 90\n",
    "\n",
    "# mi_var = 3\n",
    "print(bar())\n",
    "\n",
    "\n",
    "def getIgv(monto, x=18):\n",
    "    return (monto*x)/100\n",
    "\n",
    "igvCompra = getIgv(1000)\n",
    "igvPremio = getIgv(1000,x=3)\n",
    "\n",
    "print(igvCompra,'=>',igvPremio)"
   ]
  },
  {
   "cell_type": "code",
   "execution_count": 58,
   "metadata": {},
   "outputs": [
    {
     "name": "stdout",
     "output_type": "stream",
     "text": [
      "96\n"
     ]
    }
   ],
   "source": [
    "print(bar(6))"
   ]
  },
  {
   "cell_type": "markdown",
   "metadata": {},
   "source": [
    "DESEMPAQUETADO DE DATOS\n",
    "\n",
    "Muchas veces se utilizan listas , tuplas o diccionarios para contener diversa cantidad de datos. En ese sentido, es posible desempaquetar los valores contenidos en este tipo de datos para que puedan ser leidos por la funcion"
   ]
  },
  {
   "cell_type": "markdown",
   "metadata": {},
   "source": [
    "Args\n",
    "\n",
    "Cuando no se sabe la cantidad de valores"
   ]
  },
  {
   "cell_type": "code",
   "execution_count": 60,
   "metadata": {},
   "outputs": [
    {
     "name": "stdout",
     "output_type": "stream",
     "text": [
      "5\n",
      "Hola\n",
      "[1, 2, 3, 4, 5]\n",
      "{'dia': 'sabado'}\n"
     ]
    }
   ],
   "source": [
    "\n",
    "# Cuando no se sabe la cant. parametros\n",
    "def indeterminados_posicion(*args):\n",
    "    for arg in args:\n",
    "        print(arg)\n",
    "\n",
    "indeterminados_posicion(5,\"Hola\",[1,2,3,4,5],{'dia':'sabado'})"
   ]
  },
  {
   "cell_type": "code",
   "execution_count": 63,
   "metadata": {},
   "outputs": [
    {
     "name": "stdout",
     "output_type": "stream",
     "text": [
      "34\n"
     ]
    },
    {
     "data": {
      "text/plain": [
       "34"
      ]
     },
     "execution_count": 63,
     "metadata": {},
     "output_type": "execute_result"
    }
   ],
   "source": [
    "# valores a ser sumados se encuentran en una lista\n",
    "\n",
    "# creamos la funcion\n",
    "def sumar(a,b):\n",
    "    return a+b\n",
    "\n",
    "# lista con valores a ser sumados\n",
    "numeros_sumar=[23,11]\n",
    "\n",
    "print(suma(*numeros_sumar)) #una formar de sumar la lista\n",
    "\n",
    "sumar(numeros_sumar[0],numeros_sumar[1]) # sumar llamando con las posiciones de la lista"
   ]
  },
  {
   "cell_type": "markdown",
   "metadata": {},
   "source": [
    "kwargs\n",
    "\n",
    "Cuando no se sabe la cantidad de valores"
   ]
  },
  {
   "cell_type": "code",
   "execution_count": 65,
   "metadata": {},
   "outputs": [
    {
     "name": "stdout",
     "output_type": "stream",
     "text": [
      "n => 5\n",
      "c => Hola\n",
      "l => [1, 2, 3, 4, 5]\n"
     ]
    }
   ],
   "source": [
    "\n",
    "def indeterminados_nombre(**kwargs):\n",
    "    for kwarg in kwargs:\n",
    "        print(kwarg, \"=>\" , kwargs[kwarg])\n",
    "\n",
    "indeterminados_nombre(n=5, c=\"Hola\", l=[1,2,3,4,5])"
   ]
  },
  {
   "cell_type": "markdown",
   "metadata": {},
   "source": [
    "Valores contenidos en diccionario"
   ]
  },
  {
   "cell_type": "code",
   "execution_count": 68,
   "metadata": {},
   "outputs": [
    {
     "name": "stdout",
     "output_type": "stream",
     "text": [
      "1350.0\n"
     ]
    },
    {
     "data": {
      "text/plain": [
       "1350.0"
      ]
     },
     "execution_count": 68,
     "metadata": {},
     "output_type": "execute_result"
    }
   ],
   "source": [
    "#Crea la función\n",
    "def calcular(importe, descuento):\n",
    "    return importe * (1 - descuento / 100)\n",
    "\n",
    "#Crea el diccionario\n",
    "datos = {\n",
    "    \"descuento\": 10,\n",
    "    \"importe\": 1500\n",
    "}\n",
    "\n",
    "#Usamos la función con diccionario funcion(**dic)\n",
    "#forma1\n",
    "print(calcular(**datos))\n",
    "\n",
    "#forma2\n",
    "calcular(datos['importe'], datos['descuento'])"
   ]
  },
  {
   "cell_type": "markdown",
   "metadata": {},
   "source": [
    "Combinando ambos conceptos"
   ]
  },
  {
   "cell_type": "code",
   "execution_count": 69,
   "metadata": {},
   "outputs": [
    {
     "name": "stdout",
     "output_type": "stream",
     "text": [
      "sumatorio =>  440.56\n",
      "nombre => Hector\n",
      "edad => 27\n",
      "sueldo => 1200\n"
     ]
    }
   ],
   "source": [
    "##########NO LO ENTIENDO\n",
    "\n",
    "\n",
    "def super_funcion(*args,**kwargs):\n",
    "    total = 0\n",
    "    for arg in args:\n",
    "        total += arg\n",
    "    print(\"sumatorio => \", total)\n",
    "\n",
    "    for kwarg in kwargs:\n",
    "        print(kwarg, \"=>\", kwargs[kwarg])\n",
    "\n",
    "super_funcion(10, 50, -1, 1.56, 10, 20, 300, *[20,30], nombre=\"Hector\", edad=27, **{'sueldo':1200})"
   ]
  },
  {
   "attachments": {
    "image.png": {
     "image/png": "[encoded data removed]"
    }
   },
   "cell_type": "markdown",
   "metadata": {},
   "source": [
    "PASO POR VALOR Y REFERENCIA\n",
    "\n",
    "Dependiendo del tipo de dato que enviemos a la función, podemos diferenciar dos comportamientos:\n",
    "\n",
    "Paso por valor: Se crea una copia local de la variable dentro de la función.\n",
    "Paso por referencia: Se maneja directamente la variable, los cambios realizados dentro de la función le afectarán también fuera\n",
    "\n",
    "Tradicionalmente:\n",
    "\n",
    "Los tipos simples se pasan por valor (Inmutables): Enteros, flotantes, cadenas, lógicos...\n",
    "Los tipos compuestos se pasan por referencia (Mutables): Listas, diccionarios, conjuntos...\n",
    "\n",
    "![image.png](attachment:image.png)"
   ]
  }
 ],
 "metadata": {
  "kernelspec": {
   "display_name": "Python 3",
   "language": "python",
   "name": "python3"
  },
  "language_info": {
   "codemirror_mode": {
    "name": "ipython",
    "version": 3
   },
   "file_extension": ".py",
   "mimetype": "text/x-python",
   "name": "python",
   "nbconvert_exporter": "python",
   "pygments_lexer": "ipython3",
   "version": "3.9.19"
  }
 },
 "nbformat": 4,
 "nbformat_minor": 2
}
